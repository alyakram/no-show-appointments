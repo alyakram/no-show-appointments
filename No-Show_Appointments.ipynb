{
 "cells": [
  {
   "cell_type": "markdown",
   "id": "77847afd",
   "metadata": {},
   "source": [
    "# No Show Appointments "
   ]
  },
  {
   "cell_type": "markdown",
   "id": "364f942f",
   "metadata": {},
   "source": [
    "# Introduction\n",
    "<font size=\"3\">The Medical Appointment No Shows dataset has records of over 100k medical appointments and a very curious question of \"Why do 30% of patients miss their scheduled appointments?\" What are the different factors that affect the percentage of missed appointments? </font>"
   ]
  },
  {
   "cell_type": "code",
   "execution_count": 1,
   "id": "5577d3e4",
   "metadata": {},
   "outputs": [],
   "source": [
    "import numpy as np\n",
    "import pandas as pd\n",
    "import matplotlib.pyplot as plt\n",
    "%matplotlib inline\n",
    "import seaborn as sns\n"
   ]
  },
  {
   "cell_type": "markdown",
   "id": "675eb380",
   "metadata": {},
   "source": [
    "<font size=\"3\">Defining a function to plot a bar graph as we will use it a lot</font>"
   ]
  },
  {
   "cell_type": "code",
   "execution_count": 2,
   "id": "0a8b7ba0",
   "metadata": {},
   "outputs": [],
   "source": [
    "#The function takes the following parameters and plots a Bar chart\n",
    "#Takes the x-labels, their heights, the plot's title, takes a Y-label and a colour\n",
    "def bar_graph( x_labels, heights, title, ylabel, colour):\n",
    "    plt.bar(x_labels, heights, color =colour)\n",
    "    plt.title(title)\n",
    "    plt.ylabel(ylabel);"
   ]
  },
  {
   "cell_type": "markdown",
   "id": "427f489f",
   "metadata": {},
   "source": [
    "# Data Wrangling"
   ]
  },
  {
   "cell_type": "code",
   "execution_count": 3,
   "id": "6fc8105a",
   "metadata": {},
   "outputs": [],
   "source": [
    "df = pd.read_csv('noshowappointments-kagglev2-may-2016.csv')"
   ]
  },
  {
   "cell_type": "code",
   "execution_count": 4,
   "id": "1f4a7c90",
   "metadata": {
    "scrolled": true
   },
   "outputs": [
    {
     "data": {
      "text/html": [
       "<div>\n",
       "<style scoped>\n",
       "    .dataframe tbody tr th:only-of-type {\n",
       "        vertical-align: middle;\n",
       "    }\n",
       "\n",
       "    .dataframe tbody tr th {\n",
       "        vertical-align: top;\n",
       "    }\n",
       "\n",
       "    .dataframe thead th {\n",
       "        text-align: right;\n",
       "    }\n",
       "</style>\n",
       "<table border=\"1\" class=\"dataframe\">\n",
       "  <thead>\n",
       "    <tr style=\"text-align: right;\">\n",
       "      <th></th>\n",
       "      <th>PatientId</th>\n",
       "      <th>AppointmentID</th>\n",
       "      <th>Gender</th>\n",
       "      <th>ScheduledDay</th>\n",
       "      <th>AppointmentDay</th>\n",
       "      <th>Age</th>\n",
       "      <th>Neighbourhood</th>\n",
       "      <th>Scholarship</th>\n",
       "      <th>Hipertension</th>\n",
       "      <th>Diabetes</th>\n",
       "      <th>Alcoholism</th>\n",
       "      <th>Handcap</th>\n",
       "      <th>SMS_received</th>\n",
       "      <th>No-show</th>\n",
       "    </tr>\n",
       "  </thead>\n",
       "  <tbody>\n",
       "    <tr>\n",
       "      <th>0</th>\n",
       "      <td>2.987250e+13</td>\n",
       "      <td>5642903</td>\n",
       "      <td>F</td>\n",
       "      <td>2016-04-29T18:38:08Z</td>\n",
       "      <td>2016-04-29T00:00:00Z</td>\n",
       "      <td>62</td>\n",
       "      <td>JARDIM DA PENHA</td>\n",
       "      <td>0</td>\n",
       "      <td>1</td>\n",
       "      <td>0</td>\n",
       "      <td>0</td>\n",
       "      <td>0</td>\n",
       "      <td>0</td>\n",
       "      <td>No</td>\n",
       "    </tr>\n",
       "    <tr>\n",
       "      <th>1</th>\n",
       "      <td>5.589978e+14</td>\n",
       "      <td>5642503</td>\n",
       "      <td>M</td>\n",
       "      <td>2016-04-29T16:08:27Z</td>\n",
       "      <td>2016-04-29T00:00:00Z</td>\n",
       "      <td>56</td>\n",
       "      <td>JARDIM DA PENHA</td>\n",
       "      <td>0</td>\n",
       "      <td>0</td>\n",
       "      <td>0</td>\n",
       "      <td>0</td>\n",
       "      <td>0</td>\n",
       "      <td>0</td>\n",
       "      <td>No</td>\n",
       "    </tr>\n",
       "  </tbody>\n",
       "</table>\n",
       "</div>"
      ],
      "text/plain": [
       "      PatientId  AppointmentID Gender          ScheduledDay  \\\n",
       "0  2.987250e+13        5642903      F  2016-04-29T18:38:08Z   \n",
       "1  5.589978e+14        5642503      M  2016-04-29T16:08:27Z   \n",
       "\n",
       "         AppointmentDay  Age    Neighbourhood  Scholarship  Hipertension  \\\n",
       "0  2016-04-29T00:00:00Z   62  JARDIM DA PENHA            0             1   \n",
       "1  2016-04-29T00:00:00Z   56  JARDIM DA PENHA            0             0   \n",
       "\n",
       "   Diabetes  Alcoholism  Handcap  SMS_received No-show  \n",
       "0         0           0        0             0      No  \n",
       "1         0           0        0             0      No  "
      ]
     },
     "execution_count": 4,
     "metadata": {},
     "output_type": "execute_result"
    }
   ],
   "source": [
    "df.head(2)"
   ]
  },
  {
   "cell_type": "markdown",
   "id": "4455e212",
   "metadata": {},
   "source": [
    "<font size=\"3\">Renaming the columns for easier handling</font>"
   ]
  },
  {
   "cell_type": "code",
   "execution_count": 5,
   "id": "74eb0fe7",
   "metadata": {},
   "outputs": [],
   "source": [
    "df = df.rename(columns = {'PatientId': 'patient_id', 'AppointmentID': 'appointment_id',\n",
    "                          'Gender':'gender', 'ScheduledDay':'scheduled_day',\n",
    "                          'AppointmentDay':'appointment_day','Age':'age',\n",
    "                          'Neighbourhood': 'hospital_location','Scholarship':\"scholarship\",\n",
    "                          'Hipertension':'hipertension','Diabetes':'diabetes',\n",
    "                          'Alcoholism':'alcoholism', 'Handcap': 'handicap',\n",
    "                          'SMS_received':'sms_received', 'No-show':'no_show'})\n"
   ]
  },
  {
   "cell_type": "code",
   "execution_count": 6,
   "id": "2cf3c85e",
   "metadata": {
    "scrolled": true
   },
   "outputs": [
    {
     "data": {
      "text/html": [
       "<div>\n",
       "<style scoped>\n",
       "    .dataframe tbody tr th:only-of-type {\n",
       "        vertical-align: middle;\n",
       "    }\n",
       "\n",
       "    .dataframe tbody tr th {\n",
       "        vertical-align: top;\n",
       "    }\n",
       "\n",
       "    .dataframe thead th {\n",
       "        text-align: right;\n",
       "    }\n",
       "</style>\n",
       "<table border=\"1\" class=\"dataframe\">\n",
       "  <thead>\n",
       "    <tr style=\"text-align: right;\">\n",
       "      <th></th>\n",
       "      <th>patient_id</th>\n",
       "      <th>appointment_id</th>\n",
       "      <th>gender</th>\n",
       "      <th>scheduled_day</th>\n",
       "      <th>appointment_day</th>\n",
       "      <th>age</th>\n",
       "      <th>hospital_location</th>\n",
       "      <th>scholarship</th>\n",
       "      <th>hipertension</th>\n",
       "      <th>diabetes</th>\n",
       "      <th>alcoholism</th>\n",
       "      <th>handicap</th>\n",
       "      <th>sms_received</th>\n",
       "      <th>no_show</th>\n",
       "    </tr>\n",
       "  </thead>\n",
       "  <tbody>\n",
       "    <tr>\n",
       "      <th>0</th>\n",
       "      <td>2.987250e+13</td>\n",
       "      <td>5642903</td>\n",
       "      <td>F</td>\n",
       "      <td>2016-04-29T18:38:08Z</td>\n",
       "      <td>2016-04-29T00:00:00Z</td>\n",
       "      <td>62</td>\n",
       "      <td>JARDIM DA PENHA</td>\n",
       "      <td>0</td>\n",
       "      <td>1</td>\n",
       "      <td>0</td>\n",
       "      <td>0</td>\n",
       "      <td>0</td>\n",
       "      <td>0</td>\n",
       "      <td>No</td>\n",
       "    </tr>\n",
       "  </tbody>\n",
       "</table>\n",
       "</div>"
      ],
      "text/plain": [
       "     patient_id  appointment_id gender         scheduled_day  \\\n",
       "0  2.987250e+13         5642903      F  2016-04-29T18:38:08Z   \n",
       "\n",
       "        appointment_day  age hospital_location  scholarship  hipertension  \\\n",
       "0  2016-04-29T00:00:00Z   62   JARDIM DA PENHA            0             1   \n",
       "\n",
       "   diabetes  alcoholism  handicap  sms_received no_show  \n",
       "0         0           0         0             0      No  "
      ]
     },
     "execution_count": 6,
     "metadata": {},
     "output_type": "execute_result"
    }
   ],
   "source": [
    "df.head(1)"
   ]
  },
  {
   "cell_type": "markdown",
   "id": "6cb1d8fc",
   "metadata": {},
   "source": [
    "<font size=\"3\">Replacing No and Yes in the no_show column to avoid confusion</font>"
   ]
  },
  {
   "cell_type": "code",
   "execution_count": 7,
   "id": "b924254f",
   "metadata": {
    "scrolled": false
   },
   "outputs": [
    {
     "name": "stderr",
     "output_type": "stream",
     "text": [
      "/opt/anaconda3/lib/python3.8/site-packages/pandas/core/indexing.py:1732: SettingWithCopyWarning: \n",
      "A value is trying to be set on a copy of a slice from a DataFrame\n",
      "\n",
      "See the caveats in the documentation: https://pandas.pydata.org/pandas-docs/stable/user_guide/indexing.html#returning-a-view-versus-a-copy\n",
      "  self._setitem_single_block(indexer, value, name)\n"
     ]
    }
   ],
   "source": [
    "df['no_show'].loc[(df['no_show'] == 'No')] = 0\n",
    "df['no_show'].loc[(df['no_show'] == 'Yes')] = 1"
   ]
  },
  {
   "cell_type": "markdown",
   "id": "e283f483",
   "metadata": {},
   "source": [
    "<font size=\"3\">Converting the type of no_show column to int</font>"
   ]
  },
  {
   "cell_type": "code",
   "execution_count": 8,
   "id": "19638368",
   "metadata": {
    "scrolled": true
   },
   "outputs": [],
   "source": [
    "df.no_show = df.no_show.astype(int)"
   ]
  },
  {
   "cell_type": "markdown",
   "id": "499f07ab",
   "metadata": {},
   "source": [
    "<font size=\"3\">Checking for duplicates rows and nan values</font>"
   ]
  },
  {
   "cell_type": "code",
   "execution_count": 9,
   "id": "fa35f1a1",
   "metadata": {},
   "outputs": [
    {
     "data": {
      "text/plain": [
       "(0, 0)"
      ]
     },
     "execution_count": 9,
     "metadata": {},
     "output_type": "execute_result"
    }
   ],
   "source": [
    "df.duplicated().sum(), df.isna().sum().sum()"
   ]
  },
  {
   "cell_type": "markdown",
   "id": "a6144811",
   "metadata": {},
   "source": [
    "<font size=\"3\">Suppressing scientific notation by changing the type to int</font>"
   ]
  },
  {
   "cell_type": "code",
   "execution_count": 10,
   "id": "71ba5ebc",
   "metadata": {},
   "outputs": [],
   "source": [
    "df['patient_id'] = df['patient_id'].astype(int)"
   ]
  },
  {
   "cell_type": "markdown",
   "id": "5c50b9e7",
   "metadata": {},
   "source": [
    "<font size=\"3\">Removing hours and minutes from scheduled day and appointment day</font>"
   ]
  },
  {
   "cell_type": "code",
   "execution_count": 11,
   "id": "94e93bec",
   "metadata": {},
   "outputs": [],
   "source": [
    "df.scheduled_day = pd.to_datetime(df['scheduled_day']).dt.date\n",
    "df.appointment_day = pd.to_datetime(df['appointment_day']).dt.date"
   ]
  },
  {
   "cell_type": "markdown",
   "id": "df0065fd",
   "metadata": {},
   "source": [
    "<font size=\"3\">Dropping unwanted columns</font>"
   ]
  },
  {
   "cell_type": "code",
   "execution_count": 12,
   "id": "59d7a422",
   "metadata": {
    "scrolled": true
   },
   "outputs": [],
   "source": [
    "df.drop(columns = ['hospital_location', 'appointment_id'], inplace = True)"
   ]
  },
  {
   "cell_type": "code",
   "execution_count": 13,
   "id": "d9c4733d",
   "metadata": {
    "scrolled": false
   },
   "outputs": [
    {
     "data": {
      "text/html": [
       "<div>\n",
       "<style scoped>\n",
       "    .dataframe tbody tr th:only-of-type {\n",
       "        vertical-align: middle;\n",
       "    }\n",
       "\n",
       "    .dataframe tbody tr th {\n",
       "        vertical-align: top;\n",
       "    }\n",
       "\n",
       "    .dataframe thead th {\n",
       "        text-align: right;\n",
       "    }\n",
       "</style>\n",
       "<table border=\"1\" class=\"dataframe\">\n",
       "  <thead>\n",
       "    <tr style=\"text-align: right;\">\n",
       "      <th></th>\n",
       "      <th>patient_id</th>\n",
       "      <th>age</th>\n",
       "      <th>scholarship</th>\n",
       "      <th>hipertension</th>\n",
       "      <th>diabetes</th>\n",
       "      <th>alcoholism</th>\n",
       "      <th>handicap</th>\n",
       "      <th>sms_received</th>\n",
       "      <th>no_show</th>\n",
       "    </tr>\n",
       "  </thead>\n",
       "  <tbody>\n",
       "    <tr>\n",
       "      <th>count</th>\n",
       "      <td>1.105270e+05</td>\n",
       "      <td>110527.000000</td>\n",
       "      <td>110527.000000</td>\n",
       "      <td>110527.000000</td>\n",
       "      <td>110527.000000</td>\n",
       "      <td>110527.000000</td>\n",
       "      <td>110527.000000</td>\n",
       "      <td>110527.000000</td>\n",
       "      <td>110527.000000</td>\n",
       "    </tr>\n",
       "    <tr>\n",
       "      <th>mean</th>\n",
       "      <td>1.474963e+14</td>\n",
       "      <td>37.088874</td>\n",
       "      <td>0.098266</td>\n",
       "      <td>0.197246</td>\n",
       "      <td>0.071865</td>\n",
       "      <td>0.030400</td>\n",
       "      <td>0.022248</td>\n",
       "      <td>0.321026</td>\n",
       "      <td>0.201933</td>\n",
       "    </tr>\n",
       "    <tr>\n",
       "      <th>std</th>\n",
       "      <td>2.560949e+14</td>\n",
       "      <td>23.110205</td>\n",
       "      <td>0.297675</td>\n",
       "      <td>0.397921</td>\n",
       "      <td>0.258265</td>\n",
       "      <td>0.171686</td>\n",
       "      <td>0.161543</td>\n",
       "      <td>0.466873</td>\n",
       "      <td>0.401444</td>\n",
       "    </tr>\n",
       "    <tr>\n",
       "      <th>min</th>\n",
       "      <td>3.921700e+04</td>\n",
       "      <td>-1.000000</td>\n",
       "      <td>0.000000</td>\n",
       "      <td>0.000000</td>\n",
       "      <td>0.000000</td>\n",
       "      <td>0.000000</td>\n",
       "      <td>0.000000</td>\n",
       "      <td>0.000000</td>\n",
       "      <td>0.000000</td>\n",
       "    </tr>\n",
       "    <tr>\n",
       "      <th>25%</th>\n",
       "      <td>4.172614e+12</td>\n",
       "      <td>18.000000</td>\n",
       "      <td>0.000000</td>\n",
       "      <td>0.000000</td>\n",
       "      <td>0.000000</td>\n",
       "      <td>0.000000</td>\n",
       "      <td>0.000000</td>\n",
       "      <td>0.000000</td>\n",
       "      <td>0.000000</td>\n",
       "    </tr>\n",
       "    <tr>\n",
       "      <th>50%</th>\n",
       "      <td>3.173184e+13</td>\n",
       "      <td>37.000000</td>\n",
       "      <td>0.000000</td>\n",
       "      <td>0.000000</td>\n",
       "      <td>0.000000</td>\n",
       "      <td>0.000000</td>\n",
       "      <td>0.000000</td>\n",
       "      <td>0.000000</td>\n",
       "      <td>0.000000</td>\n",
       "    </tr>\n",
       "    <tr>\n",
       "      <th>75%</th>\n",
       "      <td>9.439172e+13</td>\n",
       "      <td>55.000000</td>\n",
       "      <td>0.000000</td>\n",
       "      <td>0.000000</td>\n",
       "      <td>0.000000</td>\n",
       "      <td>0.000000</td>\n",
       "      <td>0.000000</td>\n",
       "      <td>1.000000</td>\n",
       "      <td>0.000000</td>\n",
       "    </tr>\n",
       "    <tr>\n",
       "      <th>max</th>\n",
       "      <td>9.999816e+14</td>\n",
       "      <td>115.000000</td>\n",
       "      <td>1.000000</td>\n",
       "      <td>1.000000</td>\n",
       "      <td>1.000000</td>\n",
       "      <td>1.000000</td>\n",
       "      <td>4.000000</td>\n",
       "      <td>1.000000</td>\n",
       "      <td>1.000000</td>\n",
       "    </tr>\n",
       "  </tbody>\n",
       "</table>\n",
       "</div>"
      ],
      "text/plain": [
       "         patient_id            age    scholarship   hipertension  \\\n",
       "count  1.105270e+05  110527.000000  110527.000000  110527.000000   \n",
       "mean   1.474963e+14      37.088874       0.098266       0.197246   \n",
       "std    2.560949e+14      23.110205       0.297675       0.397921   \n",
       "min    3.921700e+04      -1.000000       0.000000       0.000000   \n",
       "25%    4.172614e+12      18.000000       0.000000       0.000000   \n",
       "50%    3.173184e+13      37.000000       0.000000       0.000000   \n",
       "75%    9.439172e+13      55.000000       0.000000       0.000000   \n",
       "max    9.999816e+14     115.000000       1.000000       1.000000   \n",
       "\n",
       "            diabetes     alcoholism       handicap   sms_received  \\\n",
       "count  110527.000000  110527.000000  110527.000000  110527.000000   \n",
       "mean        0.071865       0.030400       0.022248       0.321026   \n",
       "std         0.258265       0.171686       0.161543       0.466873   \n",
       "min         0.000000       0.000000       0.000000       0.000000   \n",
       "25%         0.000000       0.000000       0.000000       0.000000   \n",
       "50%         0.000000       0.000000       0.000000       0.000000   \n",
       "75%         0.000000       0.000000       0.000000       1.000000   \n",
       "max         1.000000       1.000000       4.000000       1.000000   \n",
       "\n",
       "             no_show  \n",
       "count  110527.000000  \n",
       "mean        0.201933  \n",
       "std         0.401444  \n",
       "min         0.000000  \n",
       "25%         0.000000  \n",
       "50%         0.000000  \n",
       "75%         0.000000  \n",
       "max         1.000000  "
      ]
     },
     "execution_count": 13,
     "metadata": {},
     "output_type": "execute_result"
    }
   ],
   "source": [
    "df.describe()"
   ]
  },
  {
   "cell_type": "markdown",
   "id": "3f6e3ea8",
   "metadata": {},
   "source": [
    "<font size=\"3\">Dropping the row that has -1 as age</font>"
   ]
  },
  {
   "cell_type": "code",
   "execution_count": 14,
   "id": "be403b46",
   "metadata": {},
   "outputs": [],
   "source": [
    "df = df[df.age != -1]"
   ]
  },
  {
   "cell_type": "markdown",
   "id": "6660384e",
   "metadata": {},
   "source": [
    "<font size=\"3\">Changing handicap values to 1 or 0</font>"
   ]
  },
  {
   "cell_type": "code",
   "execution_count": 15,
   "id": "77579137",
   "metadata": {},
   "outputs": [],
   "source": [
    "df[\"handicap\"].replace({2: 1, 3: 1, 4:1}, inplace=True)"
   ]
  },
  {
   "cell_type": "code",
   "execution_count": 16,
   "id": "140a362d",
   "metadata": {},
   "outputs": [
    {
     "data": {
      "text/plain": [
       "array([0, 1])"
      ]
     },
     "execution_count": 16,
     "metadata": {},
     "output_type": "execute_result"
    }
   ],
   "source": [
    "df.handicap.unique()"
   ]
  },
  {
   "cell_type": "markdown",
   "id": "9657e664",
   "metadata": {},
   "source": [
    "# Exploratory Data Analysis"
   ]
  },
  {
   "cell_type": "markdown",
   "id": "e67e29c5",
   "metadata": {},
   "source": [
    "<font size=\"5\">Does scheduling an appointment on the same day differ in no-show rate?</font>"
   ]
  },
  {
   "cell_type": "markdown",
   "id": "1fc1c0ff",
   "metadata": {},
   "source": [
    "<font size=\"3\">First let's take a look at the dataframe's histograms for early insight</font>"
   ]
  },
  {
   "cell_type": "code",
   "execution_count": 17,
   "id": "bad41edd",
   "metadata": {},
   "outputs": [
    {
     "data": {
      "image/png": "[encoded data removed]",
      "text/plain": [
       "<Figure size 792x792 with 9 Axes>"
      ]
     },
     "metadata": {
      "needs_background": "light"
     },
     "output_type": "display_data"
    }
   ],
   "source": [
    "df.hist(figsize = (11, 11));"
   ]
  },
  {
   "cell_type": "code",
   "execution_count": 18,
   "id": "cfbd72de",
   "metadata": {},
   "outputs": [],
   "source": [
    "df_same_day = df.query('scheduled_day == appointment_day')\n",
    "df_different_day = df.query('scheduled_day != appointment_day')\n"
   ]
  },
  {
   "cell_type": "code",
   "execution_count": 19,
   "id": "82895838",
   "metadata": {},
   "outputs": [],
   "source": [
    "same_day_noshow_count = df_same_day.query('no_show == 1').count()"
   ]
  },
  {
   "cell_type": "code",
   "execution_count": 20,
   "id": "5793bf6d",
   "metadata": {
    "scrolled": true
   },
   "outputs": [
    {
     "data": {
      "text/plain": [
       "0.046470618743841084"
      ]
     },
     "execution_count": 20,
     "metadata": {},
     "output_type": "execute_result"
    }
   ],
   "source": [
    "pro_same_day_noshow_count = same_day_noshow_count['patient_id'] / df_same_day['patient_id'].count()\n",
    "\n",
    "pro_same_day_noshow_count"
   ]
  },
  {
   "cell_type": "code",
   "execution_count": 21,
   "id": "d69afade",
   "metadata": {
    "scrolled": true
   },
   "outputs": [],
   "source": [
    "different_day_noshow_count = df_different_day.query('no_show == 1').count()\n"
   ]
  },
  {
   "cell_type": "code",
   "execution_count": 22,
   "id": "a43201ce",
   "metadata": {
    "scrolled": true
   },
   "outputs": [
    {
     "data": {
      "text/plain": [
       "0.28523984214329384"
      ]
     },
     "execution_count": 22,
     "metadata": {},
     "output_type": "execute_result"
    }
   ],
   "source": [
    "pro_different_day_noshow_count = different_day_noshow_count['patient_id'] / df_different_day['patient_id'].count()\n",
    "\n",
    "pro_different_day_noshow_count"
   ]
  },
  {
   "cell_type": "code",
   "execution_count": 23,
   "id": "b70fc150",
   "metadata": {
    "scrolled": true
   },
   "outputs": [
    {
     "data": {
      "image/png": "[encoded data removed]",
      "text/plain": [
       "<Figure size 432x288 with 1 Axes>"
      ]
     },
     "metadata": {
      "needs_background": "light"
     },
     "output_type": "display_data"
    }
   ],
   "source": [
    "heights = [pro_same_day_noshow_count * 100, pro_different_day_noshow_count * 100]\n",
    "x_labels = ['Same Day', 'Different Day']\n",
    "bar_graph(x_labels, heights, 'Scheduling day no-shows', 'Percentage of no-shows', 'g')"
   ]
  },
  {
   "cell_type": "markdown",
   "id": "1d935b8a",
   "metadata": {},
   "source": [
    "<font size=\"3\">People scheduling an appointment on a different day are way more likely to not show up</font>"
   ]
  },
  {
   "cell_type": "markdown",
   "id": "f593e1d3",
   "metadata": {},
   "source": [
    "<font size=\"5\">Does sending an sms to the patient make a difference in no-show rate?</font>"
   ]
  },
  {
   "cell_type": "code",
   "execution_count": 24,
   "id": "f2058c9c",
   "metadata": {},
   "outputs": [],
   "source": [
    "df_sms = df.query('sms_received == 1')\n",
    "df_nosms = df.query('sms_received == 0')"
   ]
  },
  {
   "cell_type": "code",
   "execution_count": 25,
   "id": "7de7d1fd",
   "metadata": {},
   "outputs": [],
   "source": [
    "sms_noshow_count = df_sms.query('no_show == 1').count()\n",
    "nosms_noshow_count = df_nosms.query('no_show == 1').count()"
   ]
  },
  {
   "cell_type": "code",
   "execution_count": 26,
   "id": "0b5a82da",
   "metadata": {
    "scrolled": false
   },
   "outputs": [
    {
     "data": {
      "text/plain": [
       "(0.27574544839637, 0.16703533926762965)"
      ]
     },
     "execution_count": 26,
     "metadata": {},
     "output_type": "execute_result"
    }
   ],
   "source": [
    "pro_sms_noshow_count =  sms_noshow_count['patient_id'] / df_sms['patient_id'].count()\n",
    "pro_nosms_noshow_count =  nosms_noshow_count['patient_id'] / df_nosms['patient_id'].count()\n",
    "pro_sms_noshow_count, pro_nosms_noshow_count"
   ]
  },
  {
   "cell_type": "code",
   "execution_count": 27,
   "id": "a7a319d5",
   "metadata": {
    "scrolled": true
   },
   "outputs": [
    {
     "data": {
      "image/png": "[encoded data removed]",
      "text/plain": [
       "<Figure size 432x288 with 1 Axes>"
      ]
     },
     "metadata": {
      "needs_background": "light"
     },
     "output_type": "display_data"
    }
   ],
   "source": [
    "heights = [pro_sms_noshow_count * 100, pro_nosms_noshow_count * 100]\n",
    "x_labels = ['sms received', 'no-sms received']\n",
    "bar_graph(x_labels, heights, 'SMS sending no-shows', 'Percentage of no-shows', 'b')\n"
   ]
  },
  {
   "cell_type": "markdown",
   "id": "3736a8a9",
   "metadata": {},
   "source": [
    "<font size=\"3\">People that received an SMS are more likely to not showing up</font>"
   ]
  },
  {
   "cell_type": "markdown",
   "id": "ebca183a",
   "metadata": {},
   "source": [
    "<font size=\"5\">Does age affect the percentage of no-shows?</font>"
   ]
  },
  {
   "cell_type": "markdown",
   "id": "eef99380",
   "metadata": {},
   "source": [
    "<font size=\"3\">Making a new column for age groups</font>"
   ]
  },
  {
   "cell_type": "code",
   "execution_count": 28,
   "id": "16f2e450",
   "metadata": {
    "scrolled": true
   },
   "outputs": [],
   "source": [
    "df['age_group'] = 1"
   ]
  },
  {
   "cell_type": "code",
   "execution_count": 29,
   "id": "6dfb3828",
   "metadata": {},
   "outputs": [],
   "source": [
    "df.loc[(df.age <= 20), 'age_group'] = 1\n",
    "df.loc[(df.age > 20), 'age_group'] = 2\n",
    "df.loc[(df.age > 40), 'age_group'] = 3\n",
    "df.loc[(df.age > 60), 'age_group'] = 4\n"
   ]
  },
  {
   "cell_type": "code",
   "execution_count": 30,
   "id": "27105208",
   "metadata": {
    "scrolled": true
   },
   "outputs": [
    {
     "data": {
      "image/png": "[encoded data removed]",
      "text/plain": [
       "<Figure size 432x288 with 1 Axes>"
      ]
     },
     "metadata": {
      "needs_background": "light"
     },
     "output_type": "display_data"
    }
   ],
   "source": [
    "x_axis = ['0-20', '20-40', '40-60' , '60+']\n",
    "y_axis = df.groupby('age_group').no_show.mean()\n",
    "plt.plot(x_axis, y_axis * 100)\n",
    "plt.title('Age group no-show')\n",
    "plt.xlabel('Age Groups')\n",
    "plt.ylabel('Percentage of no-show');\n"
   ]
  },
  {
   "cell_type": "markdown",
   "id": "e603aceb",
   "metadata": {},
   "source": [
    "<font size=\"3\">People under 40 have the highest probability of not showing up, and percentage of not showing up decreases as people get older.</font>"
   ]
  },
  {
   "cell_type": "markdown",
   "id": "95e9a7a9",
   "metadata": {},
   "source": [
    "<font size=\"5\">Does a certain kind of patient likely to no-show more than the others?</font>"
   ]
  },
  {
   "cell_type": "code",
   "execution_count": 31,
   "id": "e126a64b",
   "metadata": {
    "scrolled": false
   },
   "outputs": [
    {
     "data": {
      "text/plain": [
       "(0.17301958625751113,\n",
       " 0.18003273322422259,\n",
       " 0.20148809523809524,\n",
       " 0.18161535029004908)"
      ]
     },
     "execution_count": 31,
     "metadata": {},
     "output_type": "execute_result"
    }
   ],
   "source": [
    "hiper_noshow = df.groupby('hipertension').no_show.mean()[1]\n",
    "diabetes_noshow = df.groupby('diabetes').no_show.mean()[1]\n",
    "alcoholism_noshow = df.groupby('alcoholism').no_show.mean()[1]\n",
    "handicap_noshow = df.groupby('handicap').no_show.mean()[1]\n",
    "hiper_noshow, diabetes_noshow, alcoholism_noshow, handicap_noshow"
   ]
  },
  {
   "cell_type": "code",
   "execution_count": 32,
   "id": "55f1f58c",
   "metadata": {
    "scrolled": false
   },
   "outputs": [
    {
     "data": {
      "image/png": "[encoded data removed]",
      "text/plain": [
       "<Figure size 432x288 with 1 Axes>"
      ]
     },
     "metadata": {
      "needs_background": "light"
     },
     "output_type": "display_data"
    }
   ],
   "source": [
    "objects = ('hipertension', 'diabetes', 'alcoholism', 'handicap')\n",
    "values = (hiper_noshow*100, diabetes_noshow*100, alcoholism_noshow*100, handicap_noshow*100)\n",
    "y_pos = np.arange(len(objects))\n",
    "plt.bar(y_pos, values, align='center', alpha=0.5)\n",
    "plt.xticks(y_pos, objects)\n",
    "plt.title('Different illnesses no-show')\n",
    "plt.ylabel('Percentage of no-shows');"
   ]
  },
  {
   "cell_type": "markdown",
   "id": "0364ab06",
   "metadata": {},
   "source": [
    "<font size=\"3\">The results of no-show for people suffering from different illnesses are close with a slight edge to the people suffering from alcoholism which no-show the most</font>"
   ]
  },
  {
   "cell_type": "markdown",
   "id": "5a41c24f",
   "metadata": {},
   "source": [
    "<font size=\"5\">Do people with scholarships no-show more or less?</font>"
   ]
  },
  {
   "cell_type": "code",
   "execution_count": 33,
   "id": "f205871c",
   "metadata": {},
   "outputs": [
    {
     "data": {
      "text/plain": [
       "scholarship\n",
       "0    0.198074\n",
       "1    0.237363\n",
       "Name: no_show, dtype: float64"
      ]
     },
     "execution_count": 33,
     "metadata": {},
     "output_type": "execute_result"
    }
   ],
   "source": [
    "scholarship_noshow = df.groupby('scholarship').no_show.mean()\n",
    "scholarship_noshow"
   ]
  },
  {
   "cell_type": "code",
   "execution_count": 34,
   "id": "6096b413",
   "metadata": {
    "scrolled": false
   },
   "outputs": [
    {
     "data": {
      "image/png": "[encoded data removed]",
      "text/plain": [
       "<Figure size 432x288 with 1 Axes>"
      ]
     },
     "metadata": {
      "needs_background": "light"
     },
     "output_type": "display_data"
    }
   ],
   "source": [
    "x_labels = ['No Scholarship', 'Scholarship']\n",
    "heights = scholarship_noshow * 100\n",
    "bar_graph(x_labels, heights, 'Scholarship no-show', 'Percentage of no-shows', 'y')"
   ]
  },
  {
   "cell_type": "markdown",
   "id": "f24967f0",
   "metadata": {},
   "source": [
    "<font size=\"3\">People that were enrolled in a Scholarship at some point tend to miss their appointments more.</font>"
   ]
  },
  {
   "cell_type": "markdown",
   "id": "aebfd97c",
   "metadata": {},
   "source": [
    "# Conclusions"
   ]
  },
  {
   "cell_type": "markdown",
   "id": "4ce5fe4b",
   "metadata": {},
   "source": [
    "<font size=\"3\">1 - Less than 5% of people who scheduled an appointment on the same day didn't show up, while over 25% of people who scheduled on a different day didn't show up.</font>"
   ]
  },
  {
   "cell_type": "markdown",
   "id": "a77f1a63",
   "metadata": {},
   "source": [
    "<font size=\"3\">2 - The SMS sending graph shows that sending an SMS has a negative effect on the no-show rate and the people that received an SMS tend to no-show more than people who didn't receive one.</font>"
   ]
  },
  {
   "cell_type": "markdown",
   "id": "6d45c553",
   "metadata": {},
   "source": [
    "<font size=\"3\">3 - Younger people tend to no-show more than older people with people between 20 to 40 having the biggest no-show rate at 23%</font>"
   ]
  },
  {
   "cell_type": "markdown",
   "id": "56b47f85",
   "metadata": {},
   "source": [
    "<font size=\"3\">4 - People that had a scholarship are more likely to not show up to their appointments.</font>"
   ]
  },
  {
   "cell_type": "markdown",
   "id": "76b2eaae",
   "metadata": {},
   "source": [
    "<font size=\"3\">5 - Type of illness doesn't seem to cause a major difference in not showing up to an appointment</font>"
   ]
  },
  {
   "cell_type": "markdown",
   "id": "0b553c3d",
   "metadata": {},
   "source": [
    "<font size=\"5\">Limitations</font>"
   ]
  },
  {
   "cell_type": "markdown",
   "id": "58f2fac7",
   "metadata": {},
   "source": [
    "<font size=\"3\">1 - Conflicting results may occur due to some patients having multiple illnesses, if a seperate column showed the illness related to the specific visit we could better analyze the data.</font>"
   ]
  },
  {
   "cell_type": "markdown",
   "id": "cca15936",
   "metadata": {},
   "source": [
    "<font size=\"3\">2 - All of the data provided is categorical except age therefore only simple graphs could be drawn.</font>"
   ]
  },
  {
   "cell_type": "markdown",
   "id": "7bb37192",
   "metadata": {},
   "source": [
    "<font size=\"3\">3 - No specifications for the SMS-received column about the reason of sending the SMS, if the SMS was sent for already being late for the example this may lead to inaccurate analysis.</font>"
   ]
  }
 ],
 "metadata": {
  "kernelspec": {
   "display_name": "Python 3 (ipykernel)",
   "language": "python",
   "name": "python3"
  },
  "language_info": {
   "codemirror_mode": {
    "name": "ipython",
    "version": 3
   },
   "file_extension": ".py",
   "mimetype": "text/x-python",
   "name": "python",
   "nbconvert_exporter": "python",
   "pygments_lexer": "ipython3",
   "version": "3.8.8"
  }
 },
 "nbformat": 4,
 "nbformat_minor": 5
}
